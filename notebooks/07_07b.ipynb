{
 "cells": [
  {
   "cell_type": "markdown",
   "id": "7252adbf-4476-49ed-b1bb-c51604a2e729",
   "metadata": {},
   "source": [
    "## Asynchronous scraping"
   ]
  },
  {
   "cell_type": "code",
   "execution_count": 12,
   "id": "cb191576-cfe0-4823-aeb8-2ce0ed7a1cb3",
   "metadata": {},
   "outputs": [],
   "source": [
    "import aiohttp\n",
    "import asyncio\n",
    "import nest_asyncio\n",
    "from bs4 import BeautifulSoup\n",
    "import csv\n",
    "import re\n",
    "\n",
    "nest_asyncio.apply()"
   ]
  },
  {
   "cell_type": "code",
   "execution_count": 13,
   "id": "b728ff0a",
   "metadata": {},
   "outputs": [],
   "source": [
    "async def scrape_and_save_links(text):\n",
    "    soup = BeautifulSoup(text, 'html.parser')\n",
    "    file = open('csv_file', 'a', newline='')\n",
    "    writer = csv.writer(file, delimiter=',')\n",
    "    for link in soup.findAll('a', attrs = {'href': re.compile('^http')}):\n",
    "        link = link.get('href')\n",
    "        writer.writerow([link])\n",
    "    file.close()"
   ]
  },
  {
   "cell_type": "code",
   "execution_count": 14,
   "id": "0c18f2ef",
   "metadata": {},
   "outputs": [],
   "source": [
    "async def fetch(session, url):\n",
    "    try:\n",
    "        async with session.get(url) as response:\n",
    "            text = await response.text()\n",
    "            task = asyncio.create_task(scrape_and_save_links(text))\n",
    "            await task\n",
    "    except Exception as e:\n",
    "        print(str(e))"
   ]
  },
  {
   "cell_type": "code",
   "execution_count": 15,
   "id": "f08b9520",
   "metadata": {},
   "outputs": [],
   "source": [
    "async def scrape(urls):\n",
    "    tasks = []\n",
    "    async with aiohttp.ClientSession() as session:\n",
    "        for url in urls:\n",
    "            tasks.append(fetch(session, url))\n",
    "        await asyncio.gather(*tasks)"
   ]
  },
  {
   "cell_type": "code",
   "execution_count": 16,
   "id": "1c2ba299",
   "metadata": {},
   "outputs": [],
   "source": [
    "urls = ['https://analytics.usa.gov/', 'https://www.python.org/', 'https://www.linkedin.com/']\n",
    "\n",
    "asyncio.run(scrape(urls=urls))"
   ]
  }
 ],
 "metadata": {
  "kernelspec": {
   "display_name": "base",
   "language": "python",
   "name": "python3"
  },
  "language_info": {
   "codemirror_mode": {
    "name": "ipython",
    "version": 3
   },
   "file_extension": ".py",
   "mimetype": "text/x-python",
   "name": "python",
   "nbconvert_exporter": "python",
   "pygments_lexer": "ipython3",
   "version": "3.13.5"
  }
 },
 "nbformat": 4,
 "nbformat_minor": 5
}
